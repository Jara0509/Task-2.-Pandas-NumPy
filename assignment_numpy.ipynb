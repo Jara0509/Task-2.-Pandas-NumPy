{
 "cells": [
  {
   "cell_type": "markdown",
   "id": "d3df79dd",
   "metadata": {},
   "source": [
    "## Упражнения по библиотеке Numpy"
   ]
  },
  {
   "cell_type": "markdown",
   "id": "76b9c43b",
   "metadata": {},
   "source": [
    "import numpy as np"
   ]
  },
  {
   "cell_type": "code",
   "execution_count": 241,
   "id": "61b5df98",
   "metadata": {},
   "outputs": [
    {
     "name": "stdout",
     "output_type": "stream",
     "text": [
      "Requirement already satisfied: numpy in c:\\users\\irina\\appdata\\local\\programs\\python\\python311\\lib\\site-packages (1.23.5)\n"
     ]
    },
    {
     "name": "stderr",
     "output_type": "stream",
     "text": [
      "\n",
      "[notice] A new release of pip available: 22.3 -> 22.3.1\n",
      "[notice] To update, run: python.exe -m pip install --upgrade pip\n"
     ]
    }
   ],
   "source": [
    "!pip install numpy"
   ]
  },
  {
   "cell_type": "code",
   "execution_count": 242,
   "id": "8e857f5d",
   "metadata": {},
   "outputs": [],
   "source": [
    "import numpy as np"
   ]
  },
  {
   "cell_type": "markdown",
   "id": "03727b7c",
   "metadata": {},
   "source": [
    "**1.** Дан случайный массив, поменять знак у элементов, значения которых между 3 и 8"
   ]
  },
  {
   "cell_type": "code",
   "execution_count": 243,
   "id": "b89a7523",
   "metadata": {},
   "outputs": [],
   "source": [
    "# your code\n",
    "m = np.arange(15)\n",
    "m[(3 < m) & (m <= 8)] *= -1"
   ]
  },
  {
   "cell_type": "code",
   "execution_count": 244,
   "id": "2af948cf",
   "metadata": {},
   "outputs": [
    {
     "name": "stdout",
     "output_type": "stream",
     "text": [
      "[ 0  1  2  3 -4 -5 -6 -7 -8  9 10 11 12 13 14]\n"
     ]
    }
   ],
   "source": [
    "print(m)"
   ]
  },
  {
   "cell_type": "markdown",
   "id": "5fa4abda",
   "metadata": {},
   "source": [
    "**2.** Заменить максимальный элемент случайного массива на 0"
   ]
  },
  {
   "cell_type": "code",
   "execution_count": 245,
   "id": "f2788a6e",
   "metadata": {},
   "outputs": [
    {
     "name": "stdout",
     "output_type": "stream",
     "text": [
      "[0.         0.7371342  0.30368688 0.22672836 0.32810555 0.44420139\n",
      " 0.65308583]\n"
     ]
    }
   ],
   "source": [
    "# your code\n",
    "m = np.random.random(7)\n",
    "m[m.argmax()] = 0\n",
    "print(m)"
   ]
  },
  {
   "cell_type": "markdown",
   "id": "3cac656b",
   "metadata": {},
   "source": [
    "**3.** Построить прямое произведение массивов (все комбинации с каждым элементом). На вход подается двумерный массив"
   ]
  },
  {
   "cell_type": "code",
   "execution_count": 246,
   "id": "3396b764",
   "metadata": {},
   "outputs": [
    {
     "name": "stdout",
     "output_type": "stream",
     "text": [
      "[[1 3 5]\n",
      " [1 3 6]\n",
      " [1 3 7]\n",
      " [1 4 5]\n",
      " [1 4 6]\n",
      " [1 4 7]\n",
      " [2 3 5]\n",
      " [2 3 6]\n",
      " [2 3 7]\n",
      " [2 4 5]\n",
      " [2 4 6]\n",
      " [2 4 7]]\n"
     ]
    }
   ],
   "source": [
    "# your code\n",
    "def block(arrays):\n",
    "    arrays = [np.asarray(x) for x in arrays]\n",
    "    forming = map(len, arrays)\n",
    "\n",
    "    fx = np.indices(forming, dtype=int)\n",
    "    fx = fx.reshape(len(arrays), -1).T\n",
    "\n",
    "    for n, arr in enumerate(arrays):\n",
    "        fx[:, n] = arrays[n][fx[:, n]]\n",
    "\n",
    "    return fx\n",
    "\n",
    "print(block(([1, 2], [3, 4], [5, 6, 7])))"
   ]
  },
  {
   "cell_type": "markdown",
   "id": "674c9354",
   "metadata": {},
   "source": [
    "**4.** Даны 2 массива A (8x3) и B (2x2). Найти строки в A, которые содержат элементы из каждой строки в B, независимо от порядка элементов в B"
   ]
  },
  {
   "cell_type": "code",
   "execution_count": 247,
   "id": "cb664782",
   "metadata": {},
   "outputs": [
    {
     "name": "stdout",
     "output_type": "stream",
     "text": [
      "[0 1 2 3 4 6 7]\n"
     ]
    }
   ],
   "source": [
    "# your code\n",
    "A = np.random.randint(0,5,(8,3))\n",
    "B = np.random.randint(0,5,(2,2))\n",
    "\n",
    "C = (A[...,np.newaxis,np.newaxis] == B)\n",
    "rows = (C.sum(axis=(1,2,3)) >= B.shape[1]).nonzero()[0]\n",
    "print(rows)"
   ]
  },
  {
   "cell_type": "markdown",
   "id": "fa46533b",
   "metadata": {},
   "source": [
    "**5.** Дана 10x3 матрица, найти строки из неравных значений (например строка [2,2,3] остается, строка [3,3,3] удаляется)"
   ]
  },
  {
   "cell_type": "code",
   "execution_count": 248,
   "id": "fa545b23",
   "metadata": {},
   "outputs": [
    {
     "name": "stdout",
     "output_type": "stream",
     "text": [
      "[[3 1 0]\n",
      " [1 0 0]\n",
      " [0 1 3]\n",
      " [1 2 0]\n",
      " [4 4 0]\n",
      " [4 4 4]\n",
      " [2 0 4]\n",
      " [0 0 4]\n",
      " [2 1 1]\n",
      " [4 4 1]]\n",
      "[[3 1 0]\n",
      " [1 0 0]\n",
      " [0 1 3]\n",
      " [1 2 0]\n",
      " [4 4 0]\n",
      " [2 0 4]\n",
      " [0 0 4]\n",
      " [2 1 1]\n",
      " [4 4 1]]\n"
     ]
    }
   ],
   "source": [
    "# your code\n",
    "D = np.random.randint(0,5,(10,3))\n",
    "E = np.logical_and.reduce(D[:,1:] == D[:,:-1], axis=1)\n",
    "I = D[~E]\n",
    "print(D)\n",
    "print(I)"
   ]
  },
  {
   "cell_type": "markdown",
   "id": "28f0d116",
   "metadata": {},
   "source": [
    "**6.** Дан двумерный массив. Удалить те строки, которые повторяются"
   ]
  },
  {
   "cell_type": "code",
   "execution_count": 249,
   "id": "83d2c0b7",
   "metadata": {},
   "outputs": [],
   "source": [
    "# your code\n",
    "a = np.array([\n",
    "    [1, 2, 3],\n",
    "    [1, 2, 3]\n",
    "])\n"
   ]
  },
  {
   "cell_type": "code",
   "execution_count": 250,
   "id": "39925157",
   "metadata": {},
   "outputs": [
    {
     "data": {
      "text/plain": [
       "array([[1, 2, 3]])"
      ]
     },
     "execution_count": 250,
     "metadata": {},
     "output_type": "execute_result"
    }
   ],
   "source": [
    "\n",
    "np.unique(a, axis=0)"
   ]
  },
  {
   "cell_type": "code",
   "execution_count": 251,
   "id": "9eb3a21e",
   "metadata": {},
   "outputs": [],
   "source": [
    "# если надо сохранить порядок строк\n",
    "a = [[1, 2, 3],\n",
    "    [4, 5, 6],\n",
    "    [5, 5, 7],\n",
    "    [1, 2, 3],\n",
    "    [3, 2, 1]]\n"
   ]
  },
  {
   "cell_type": "code",
   "execution_count": 252,
   "id": "76471822",
   "metadata": {},
   "outputs": [],
   "source": [
    "b = np.array(a)"
   ]
  },
  {
   "cell_type": "code",
   "execution_count": 253,
   "id": "c81b365a",
   "metadata": {},
   "outputs": [],
   "source": [
    "u,idx = np.unique(b, axis=0, return_index=True)\n",
    "res = u[idx.argsort()]"
   ]
  },
  {
   "cell_type": "code",
   "execution_count": 254,
   "id": "6fc0e09b",
   "metadata": {},
   "outputs": [
    {
     "data": {
      "text/plain": [
       "array([[1, 2, 3],\n",
       "       [4, 5, 6],\n",
       "       [5, 5, 7],\n",
       "       [3, 2, 1]])"
      ]
     },
     "execution_count": 254,
     "metadata": {},
     "output_type": "execute_result"
    }
   ],
   "source": [
    "res"
   ]
  },
  {
   "cell_type": "markdown",
   "id": "6daa9e37",
   "metadata": {},
   "source": [
    "______\n",
    "______"
   ]
  },
  {
   "cell_type": "markdown",
   "id": "ca6f585e",
   "metadata": {},
   "source": [
    "* __Задача 1__: Подсчитать произведение ненулевых элементов на диагонали прямоугольной матрицы.  \n",
    " Например, для X = np.array([[1, 0, 1], [2, 0, 2], [3, 0, 3], [4, 4, 4]]) ответ 3."
   ]
  },
  {
   "cell_type": "markdown",
   "id": "cfbfcaff",
   "metadata": {},
   "source": [
    "Для каждой из следующих задач (1-5) нужно привести 2 реализации – одна без использования numpy (cчитайте, что там, где на входе или выходе должны быть numpy array, будут просто списки), а вторая полностью векторизованная с использованием numpy (без использования питоновских циклов/map/list comprehension).\n",
    "\n",
    "\n",
    "__Замечание 1.__ Можно считать, что все указанные объекты непустые (к примеру, в __задаче 1__ на диагонали матрицы есть ненулевые элементы).\n",
    "\n",
    "__Замечание 2.__ Для большинства задач решение занимает не больше 1-2 строк."
   ]
  },
  {
   "cell_type": "markdown",
   "id": "673cac7f",
   "metadata": {},
   "source": [
    "___"
   ]
  },
  {
   "cell_type": "code",
   "execution_count": 255,
   "id": "065862fc",
   "metadata": {},
   "outputs": [
    {
     "data": {
      "text/plain": [
       "3"
      ]
     },
     "execution_count": 255,
     "metadata": {},
     "output_type": "execute_result"
    }
   ],
   "source": [
    "# your code\n",
    "x = np.array([[1, 0, 1],[2, 0, 2], [3, 0, 3], [4, 4, 4]])\n",
    "my_prod = np.prod(np.diag(x)[np.diag(x)!=0])\n",
    "my_prod"
   ]
  },
  {
   "cell_type": "code",
   "execution_count": 256,
   "id": "87e44d9f",
   "metadata": {},
   "outputs": [],
   "source": [
    "# конспект\n",
    "# from random import randint\n",
    "#matrix = [[randint(0, 10) for y in range(10)] for x in range(10)]\n",
    "#m =1\n",
    "#for i in range(10):\n",
    "    #if matrix[i][i]:\n",
    "       # m *= matrix[i][i]\n",
    "#print(m)\n"
   ]
  },
  {
   "cell_type": "markdown",
   "id": "9fc51d41",
   "metadata": {},
   "source": [
    "* __Задача 2__: Даны два вектора x и y. Проверить, задают ли они одно и то же мультимножество.  \n",
    "  Например, для x = np.array([1, 2, 2, 4]), y = np.array([4, 2, 1, 2]) ответ True."
   ]
  },
  {
   "cell_type": "code",
   "execution_count": 257,
   "id": "3ca04295",
   "metadata": {},
   "outputs": [
    {
     "data": {
      "text/plain": [
       "True"
      ]
     },
     "execution_count": 257,
     "metadata": {},
     "output_type": "execute_result"
    }
   ],
   "source": [
    "x = np.array([1, 2, 2, 4])\n",
    "y = np.array([4, 2, 1, 2])\n",
    "\n",
    "equal = np.any([x ,y])\n",
    "equal\n",
    "#if np.array_equal(x ,y): \n",
    "    # print(\"x == y\")\n",
    "#print((x == y).all())\n",
    "\n"
   ]
  },
  {
   "cell_type": "code",
   "execution_count": 258,
   "id": "a809e02f",
   "metadata": {},
   "outputs": [],
   "source": [
    "# конспект\n",
    "#x = np.array([1, 2, 2, 4])\n",
    "#y = np.array([4, 2, 1, 2])\n",
    "#g = np.allclose(x,y)\n",
    "#print(g)"
   ]
  },
  {
   "cell_type": "code",
   "execution_count": 259,
   "id": "2597c139",
   "metadata": {},
   "outputs": [],
   "source": [
    "# конспект\n",
    "# hj = np.all(x == y)\n",
    "#hj\n",
    "#np.all(a == a[0])"
   ]
  },
  {
   "cell_type": "code",
   "execution_count": 260,
   "id": "7c39fd8b",
   "metadata": {},
   "outputs": [],
   "source": [
    "#конспект\n",
    "#eq = np.isclose(x,y)\n",
    "#eq"
   ]
  },
  {
   "cell_type": "code",
   "execution_count": 261,
   "id": "dd3a2de7",
   "metadata": {},
   "outputs": [],
   "source": [
    "#конспект\n",
    "# np.array_equal(x,y)"
   ]
  },
  {
   "cell_type": "code",
   "execution_count": 262,
   "id": "d290e490",
   "metadata": {},
   "outputs": [],
   "source": [
    "# конспект\n",
    "# result5 = np.array(set(x).intersection(y))\n",
    "#result5"
   ]
  },
  {
   "cell_type": "code",
   "execution_count": 263,
   "id": "1039264f",
   "metadata": {},
   "outputs": [],
   "source": [
    "# конспект\n",
    "# c = np.intersect1d(x, y)\n",
    "#c"
   ]
  },
  {
   "cell_type": "code",
   "execution_count": 264,
   "id": "4438810a",
   "metadata": {},
   "outputs": [],
   "source": [
    "# конспект\n",
    "# k = np.array_equiv(x, y)\n",
    "# k"
   ]
  },
  {
   "cell_type": "code",
   "execution_count": 265,
   "id": "36fcf258",
   "metadata": {},
   "outputs": [],
   "source": [
    "# конспект\n",
    "# h = np.array_equal(x,y)\n",
    "# h"
   ]
  },
  {
   "cell_type": "markdown",
   "id": "b9c185c7",
   "metadata": {},
   "source": [
    "* __Задача 3__: Найти максимальный элемент в векторе x среди элементов, перед которыми стоит ноль. \n",
    " Например, для x = np.array([6, 2, 0, 3, 0, 0, 5, 7, 0]) ответ 5."
   ]
  },
  {
   "cell_type": "code",
   "execution_count": 266,
   "id": "29e16a83",
   "metadata": {},
   "outputs": [
    {
     "data": {
      "text/plain": [
       "5"
      ]
     },
     "execution_count": 266,
     "metadata": {},
     "output_type": "execute_result"
    }
   ],
   "source": [
    "a = np.array([6, 2, 0, 3, 0, 0, 5, 7, 0])\n",
    "zero = a==0\n",
    "a[1:][zero[:-1]].max()"
   ]
  },
  {
   "cell_type": "code",
   "execution_count": 267,
   "id": "b57df008",
   "metadata": {},
   "outputs": [],
   "source": [
    "# конспект\n",
    "#print(np.max(np.take(a, np.where(a[1:] == 0))))\n",
    "#ответ 7"
   ]
  },
  {
   "cell_type": "markdown",
   "id": "480be4ce",
   "metadata": {},
   "source": [
    "* __Задача 4__: Реализовать кодирование длин серий (Run-length encoding). Для некоторого вектора x необходимо вернуть кортеж из двух векторов одинаковой длины. Первый содержит числа, а второй - сколько раз их нужно повторить.  \n",
    " Например, для x = np.array([2, 2, 2, 3, 3, 3, 5]) ответ (np.array([2, 3, 5]), np.array([3, 3, 1]))."
   ]
  },
  {
   "cell_type": "code",
   "execution_count": 268,
   "id": "8bdd0bf4",
   "metadata": {},
   "outputs": [
    {
     "name": "stdout",
     "output_type": "stream",
     "text": [
      "(array([2, 3, 5]), array([3, 3, 1], dtype=int64))\n"
     ]
    }
   ],
   "source": [
    "def encode(a):\n",
    "    ia = np.asarray(a)\n",
    "    n = len(ia)\n",
    "    if n == 0: \n",
    "        return (None, None)\n",
    "    else:\n",
    "        y = np.array(ia[1:] != ia[:-1])\n",
    "        i = np.append(np.where(y), n - 1)\n",
    "        z = np.diff(np.append(-1, i))\n",
    "        return(ia[i], z)\n",
    "\n",
    "A = np.array([2, 2, 2, 3, 3, 3, 5])\n",
    "print(encode(A))"
   ]
  },
  {
   "cell_type": "markdown",
   "id": "077532ec",
   "metadata": {},
   "source": [
    "* __Задача 5__: Даны две выборки объектов - X и Y. Вычислить матрицу евклидовых расстояний между объектами. Сравните с функцией scipy.spatial.distance.cdist по скорости работы."
   ]
  },
  {
   "cell_type": "code",
   "execution_count": 269,
   "id": "94f16033",
   "metadata": {},
   "outputs": [
    {
     "name": "stdout",
     "output_type": "stream",
     "text": [
      "Requirement already satisfied: scipy in c:\\users\\irina\\appdata\\local\\programs\\python\\python311\\lib\\site-packages (1.9.3)\n",
      "Requirement already satisfied: numpy<1.26.0,>=1.18.5 in c:\\users\\irina\\appdata\\local\\programs\\python\\python311\\lib\\site-packages (from scipy) (1.23.5)\n"
     ]
    },
    {
     "name": "stderr",
     "output_type": "stream",
     "text": [
      "\n",
      "[notice] A new release of pip available: 22.3 -> 22.3.1\n",
      "[notice] To update, run: python.exe -m pip install --upgrade pip\n"
     ]
    }
   ],
   "source": [
    "!pip install scipy"
   ]
  },
  {
   "cell_type": "code",
   "execution_count": 270,
   "id": "c737a911",
   "metadata": {},
   "outputs": [],
   "source": [
    "import scipy"
   ]
  },
  {
   "cell_type": "code",
   "execution_count": 271,
   "id": "e6009078",
   "metadata": {},
   "outputs": [
    {
     "data": {
      "text/plain": [
       "array([[5.        , 2.44948974, 5.        , 2.23606798],\n",
       "       [5.        , 3.74165739, 5.        , 3.60555128],\n",
       "       [4.47213595, 2.23606798, 4.47213595, 2.44948974],\n",
       "       [3.60555128, 1.41421356, 3.60555128, 2.23606798],\n",
       "       [2.82842712, 1.        , 2.82842712, 2.44948974]])"
      ]
     },
     "execution_count": 271,
     "metadata": {},
     "output_type": "execute_result"
    }
   ],
   "source": [
    "point7 = np.random.randint(5, size=(5, 3))\n",
    "point8 = np.random.randint(5, size=(4, 3))\n",
    "\n",
    "dist = scipy.spatial.distance.cdist(point7,point8)\n",
    "dist"
   ]
  },
  {
   "cell_type": "code",
   "execution_count": 272,
   "id": "29e7f5d4",
   "metadata": {},
   "outputs": [
    {
     "name": "stdout",
     "output_type": "stream",
     "text": [
      "3.99 µs ± 54.7 ns per loop (mean ± std. dev. of 7 runs, 100,000 loops each)\n"
     ]
    }
   ],
   "source": [
    "%timeit dist = scipy.spatial.distance.cdist(point7,point8)"
   ]
  },
  {
   "cell_type": "code",
   "execution_count": 273,
   "id": "443a6d71",
   "metadata": {},
   "outputs": [
    {
     "data": {
      "text/plain": [
       "array([[5.38516481, 4.35889894, 3.        , 3.16227766],\n",
       "       [1.41421356, 1.41421356, 3.74165739, 3.        ],\n",
       "       [3.16227766, 2.82842712, 3.16227766, 3.        ],\n",
       "       [3.16227766, 2.44948974, 2.44948974, 2.23606798],\n",
       "       [4.12310563, 4.58257569, 4.12310563, 3.16227766]])"
      ]
     },
     "execution_count": 273,
     "metadata": {},
     "output_type": "execute_result"
    }
   ],
   "source": [
    "\n",
    "def dist_pairwise(X, Y):\n",
    "    P = np.add.outer(np.sum(X**2, axis=1), np.sum(Y**2, axis=1))\n",
    "    N = np.dot(X, Y.T)\n",
    "    return np.sqrt(P - 2*N)\n",
    "\n",
    "X = np.random.randint(5, size=(5, 3))\n",
    "Y = np.random.randint(5, size=(4, 3))\n",
    "\n",
    "\n",
    "dists = dist_pairwise(X, Y)\n",
    "dists\n",
    "\n",
    "#dists.shape\n"
   ]
  },
  {
   "cell_type": "code",
   "execution_count": 274,
   "id": "3212e301",
   "metadata": {},
   "outputs": [
    {
     "name": "stdout",
     "output_type": "stream",
     "text": [
      "17 µs ± 3.01 µs per loop (mean ± std. dev. of 7 runs, 100,000 loops each)\n"
     ]
    }
   ],
   "source": [
    "%timeit dists = dist_pairwise(X, Y)"
   ]
  },
  {
   "cell_type": "markdown",
   "id": "973e8064",
   "metadata": {},
   "source": [
    "_______\n",
    "________"
   ]
  },
  {
   "cell_type": "markdown",
   "id": "1104acb7",
   "metadata": {},
   "source": [
    "* #### __Задача 6__: CrunchieMunchies __*__\n",
    "\n",
    "Вы работаете в отделе маркетинга пищевой компании MyCrunch, которая разрабатывает новый вид вкусных, полезных злаков под названием **CrunchieMunchies**.\n",
    "\n",
    "Вы хотите продемонстрировать потребителям, насколько полезны ваши хлопья по сравнению с другими ведущими брендами, поэтому вы собрали данные о питании нескольких разных конкурентов.\n",
    "\n",
    "Ваша задача - использовать вычисления Numpy для анализа этих данных и доказать, что ваши **СrunchieMunchies** - самый здоровый выбор для потребителей.\n"
   ]
  },
  {
   "cell_type": "code",
   "execution_count": 275,
   "id": "10a77f8d",
   "metadata": {},
   "outputs": [],
   "source": [
    "import numpy as np"
   ]
  },
  {
   "cell_type": "markdown",
   "id": "ab87cb03",
   "metadata": {},
   "source": [
    "1. Просмотрите файл cereal.csv. Этот файл содержит количества калорий для различных марок хлопьев. Загрузите данные из файла и сохраните их как calorie_stats."
   ]
  },
  {
   "cell_type": "code",
   "execution_count": 276,
   "id": "9681ebf2",
   "metadata": {},
   "outputs": [
    {
     "data": {
      "text/plain": [
       "array([ 70., 120.,  70.,  50., 110., 110., 110., 130.,  90.,  90., 120.,\n",
       "       110., 120., 110., 110., 110., 100., 110., 110., 110., 100., 110.,\n",
       "       100., 100., 110., 110., 100., 120., 120., 110., 100., 110., 100.,\n",
       "       110., 120., 120., 110., 110., 110., 140., 110., 100., 110., 100.,\n",
       "       150., 150., 160., 100., 120., 140.,  90., 130., 120., 100.,  50.,\n",
       "        50., 100., 100., 120., 100.,  90., 110., 110.,  80.,  90.,  90.,\n",
       "       110., 110.,  90., 110., 140., 100., 110., 110., 100., 100., 110.])"
      ]
     },
     "execution_count": 276,
     "metadata": {},
     "output_type": "execute_result"
    }
   ],
   "source": [
    "calorie_stats = np.loadtxt(\"./data/cereal.csv\", delimiter=\",\")\n",
    "calorie_stats"
   ]
  },
  {
   "cell_type": "markdown",
   "id": "139cfbd8",
   "metadata": {},
   "source": [
    "2. В одной порции CrunchieMunchies содержится 60 калорий. Насколько выше среднее количество калорий у ваших конкурентов?\n",
    "\n",
    "Сохраните ответ в переменной average_calories и распечатайте переменную в терминале"
   ]
  },
  {
   "cell_type": "code",
   "execution_count": 277,
   "id": "2407fcfc",
   "metadata": {},
   "outputs": [
    {
     "data": {
      "text/plain": [
       "106.88311688311688"
      ]
     },
     "execution_count": 277,
     "metadata": {},
     "output_type": "execute_result"
    }
   ],
   "source": [
    "portion = 60\n",
    "\n",
    "\n",
    "average = np.mean (calorie_stats)\n",
    "average"
   ]
  },
  {
   "cell_type": "code",
   "execution_count": 278,
   "id": "7036d240",
   "metadata": {},
   "outputs": [
    {
     "data": {
      "text/plain": [
       "46.883116883116884"
      ]
     },
     "execution_count": 278,
     "metadata": {},
     "output_type": "execute_result"
    }
   ],
   "source": [
    "average_calories = np.mean (calorie_stats) - portion\n",
    "average_calories"
   ]
  },
  {
   "cell_type": "markdown",
   "id": "b2ddb4cd",
   "metadata": {},
   "source": [
    "3. Корректно ли среднее количество калорий отражает распределение набора данных? Давайте отсортируем данные и посмотрим.\n",
    "\n",
    "Отсортируйте данные и сохраните результат в переменной calorie_stats_sorted. Распечатайте отсортированную информацию"
   ]
  },
  {
   "cell_type": "code",
   "execution_count": 279,
   "id": "46eeb4ed",
   "metadata": {},
   "outputs": [
    {
     "data": {
      "text/plain": [
       "array([ 50.,  50.,  50.,  70.,  70.,  80.,  90.,  90.,  90.,  90.,  90.,\n",
       "        90.,  90., 100., 100., 100., 100., 100., 100., 100., 100., 100.,\n",
       "       100., 100., 100., 100., 100., 100., 100., 100., 110., 110., 110.,\n",
       "       110., 110., 110., 110., 110., 110., 110., 110., 110., 110., 110.,\n",
       "       110., 110., 110., 110., 110., 110., 110., 110., 110., 110., 110.,\n",
       "       110., 110., 110., 110., 120., 120., 120., 120., 120., 120., 120.,\n",
       "       120., 120., 120., 130., 130., 140., 140., 140., 150., 150., 160.])"
      ]
     },
     "execution_count": 279,
     "metadata": {},
     "output_type": "execute_result"
    }
   ],
   "source": [
    "calorie_stats_sorted = np.sort(calorie_stats)\n",
    "calorie_stats_sorted"
   ]
  },
  {
   "cell_type": "markdown",
   "id": "4dc74116",
   "metadata": {},
   "source": [
    "4. Похоже, что большинство значений выше среднего. Давайте посмотрим, является ли медиана наиболее корректным показателем набора данных.\n",
    "\n",
    "Вычислите медиану набора данных и сохраните свой ответ в median_calories. Выведите медиану, чтобы вы могли видеть, как она сравнивается со средним значением."
   ]
  },
  {
   "cell_type": "code",
   "execution_count": 280,
   "id": "b56627c3",
   "metadata": {},
   "outputs": [
    {
     "data": {
      "text/plain": [
       "110.0"
      ]
     },
     "execution_count": 280,
     "metadata": {},
     "output_type": "execute_result"
    }
   ],
   "source": [
    "median_calories = np.median(calorie_stats)\n",
    "median_calories"
   ]
  },
  {
   "cell_type": "markdown",
   "id": "a63ab72f",
   "metadata": {},
   "source": [
    "5. В то время как медиана показывает, что по крайней мере половина наших значений составляет более 100 калорий, было бы более впечатляюще показать, что значительная часть конкурентов имеет более высокое количество калорий, чем CrunchieMunchies.\n",
    "\n",
    "Рассчитайте различные процентили и распечатайте их, пока не найдете наименьший процентиль, превышающий 60 калорий. Сохраните это значение в переменной nth_percentile."
   ]
  },
  {
   "cell_type": "code",
   "execution_count": 281,
   "id": "fe80ce03",
   "metadata": {},
   "outputs": [
    {
     "data": {
      "text/plain": [
       "160.0"
      ]
     },
     "execution_count": 281,
     "metadata": {},
     "output_type": "execute_result"
    }
   ],
   "source": [
    "first = np.percentile(calorie_stats_sorted, 100)\n",
    "first\n",
    "#nth_percentile ="
   ]
  },
  {
   "cell_type": "code",
   "execution_count": 282,
   "id": "5b321020",
   "metadata": {},
   "outputs": [
    {
     "data": {
      "text/plain": [
       "110.0"
      ]
     },
     "execution_count": 282,
     "metadata": {},
     "output_type": "execute_result"
    }
   ],
   "source": [
    "second = np.percentile(calorie_stats_sorted, 70)\n",
    "second"
   ]
  },
  {
   "cell_type": "code",
   "execution_count": 283,
   "id": "6600514c",
   "metadata": {},
   "outputs": [
    {
     "data": {
      "text/plain": [
       "110.0"
      ]
     },
     "execution_count": 283,
     "metadata": {},
     "output_type": "execute_result"
    }
   ],
   "source": [
    "third = np.percentile(calorie_stats_sorted, 50)\n",
    "third"
   ]
  },
  {
   "cell_type": "code",
   "execution_count": 284,
   "id": "7e306df9",
   "metadata": {},
   "outputs": [
    {
     "data": {
      "text/plain": [
       "100.0"
      ]
     },
     "execution_count": 284,
     "metadata": {},
     "output_type": "execute_result"
    }
   ],
   "source": [
    "fouth = np.percentile(calorie_stats_sorted, 30)\n",
    "fouth"
   ]
  },
  {
   "cell_type": "code",
   "execution_count": 285,
   "id": "a968013a",
   "metadata": {},
   "outputs": [
    {
     "data": {
      "text/plain": [
       "90.0"
      ]
     },
     "execution_count": 285,
     "metadata": {},
     "output_type": "execute_result"
    }
   ],
   "source": [
    "fifth = np.percentile(calorie_stats_sorted, 10)\n",
    "fifth"
   ]
  },
  {
   "cell_type": "code",
   "execution_count": 286,
   "id": "dc8cb5c0",
   "metadata": {},
   "outputs": [
    {
     "data": {
      "text/plain": [
       "60.16"
      ]
     },
     "execution_count": 286,
     "metadata": {},
     "output_type": "execute_result"
    }
   ],
   "source": [
    "nth_percentile = np.percentile(calorie_stats_sorted, 3.3)\n",
    "nth_percentile"
   ]
  },
  {
   "cell_type": "markdown",
   "id": "a2a3c5aa",
   "metadata": {},
   "source": [
    "6. Хотя процентиль показывает нам, что у большинства конкурентов количество калорий намного выше, это неудобная концепция для использования в маркетинговых материалах.\n",
    "\n",
    "Вместо этого давайте подсчитаем процент хлопьев, в которых содержится более 60 калорий на порцию. Сохраните свой ответ в переменной more_calories и распечатайте его"
   ]
  },
  {
   "cell_type": "code",
   "execution_count": 287,
   "id": "1e8125c6",
   "metadata": {},
   "outputs": [],
   "source": [
    "count_nonzero_all = np.count_nonzero (calorie_stats)"
   ]
  },
  {
   "cell_type": "code",
   "execution_count": 288,
   "id": "075d59ec",
   "metadata": {},
   "outputs": [],
   "source": [
    "count_nonzero_moresixty = np.count_nonzero (calorie_stats > 60)"
   ]
  },
  {
   "cell_type": "code",
   "execution_count": 289,
   "id": "ade0f6ea",
   "metadata": {},
   "outputs": [
    {
     "data": {
      "text/plain": [
       "96.1038961038961"
      ]
     },
     "execution_count": 289,
     "metadata": {},
     "output_type": "execute_result"
    }
   ],
   "source": [
    "more_calories = (count_nonzero_moresixty/count_nonzero_all)*100\n",
    "more_calories"
   ]
  },
  {
   "cell_type": "markdown",
   "id": "1735d65b",
   "metadata": {},
   "source": [
    "7. Это действительно высокий процент. Это будет очень полезно, когда мы будем продвигать CrunchieMunchies. Но один вопрос заключается в том, насколько велики различия в наборе данных? Можем ли мы сделать обобщение, что в большинстве злаков содержится около 100 калорий или разброс еще больше?\n",
    "\n",
    "Рассчитайте величину отклонения, найдя стандартное отклонение, Сохраните свой ответ в calorie_std и распечатайте на терминале. Как мы можем включить эту ценность в наш анализ?"
   ]
  },
  {
   "cell_type": "code",
   "execution_count": 290,
   "id": "85c8df1f",
   "metadata": {},
   "outputs": [
    {
     "data": {
      "text/plain": [
       "19.35718533390827"
      ]
     },
     "execution_count": 290,
     "metadata": {},
     "output_type": "execute_result"
    }
   ],
   "source": [
    "calorie_std = np.std(calorie_stats)\n",
    "calorie_std"
   ]
  },
  {
   "cell_type": "code",
   "execution_count": 291,
   "id": "dbd7d107",
   "metadata": {},
   "outputs": [],
   "source": [
    "#стандартное отклонение 19,36 - это величина вариации в наборе данных calorie_stats относительно его среднего арифм. значения (mean): насколько далеко от \n",
    "# среднего арифметического находятся точки данных. Его также можно назвать мерой центральной тенденции: чем меньше стандартное отклонение, тем более «сгруппированы» данные вокруг центра (среднего). \n",
    "# Чем отклонение больше, тем больше разброс значений"
   ]
  },
  {
   "cell_type": "markdown",
   "id": "037455c5",
   "metadata": {},
   "source": [
    "8. Напишите короткий абзац, в котором кратко изложите свои выводы и то, как, по вашему мнению, эти данные могут быть использованы в интересах Mycrunch при маркетинге CrunchieMunchies."
   ]
  },
  {
   "cell_type": "code",
   "execution_count": 292,
   "id": "c260fee9",
   "metadata": {},
   "outputs": [],
   "source": [
    "# Хлопья являются конкурентоспособным продуктом, способным удовлетворить потребности потребителей, что потверждается расчетом статистических показателей. Так, основной показатель продукта,\n",
    "# калорийность, значительно ниже аналогичного показателя конкурентов, почти в 2 раза. После сортировки данных и проведения расчетов видно, что медиана и среднее значение не равны. \n",
    "# Медианное значение больше и оно является наиболее корректным показателем набора данных в данном случае. \n",
    "# Статистические показатели (среднее и медиана) показывают, что значительная часть конкурентов имеет более высокое количество калорий, чем CrunchieMunchies.\n",
    "# Калорийность отклоняется от среднего примерно на 19,36.\n",
    "# Расчет процентиля также показывает, что почти у всех конкурентов (около 97%) количество калорий выше"
   ]
  }
 ],
 "metadata": {
  "kernelspec": {
   "display_name": "Python 3.11.0 64-bit",
   "language": "python",
   "name": "python3"
  },
  "language_info": {
   "codemirror_mode": {
    "name": "ipython",
    "version": 3
   },
   "file_extension": ".py",
   "mimetype": "text/x-python",
   "name": "python",
   "nbconvert_exporter": "python",
   "pygments_lexer": "ipython3",
   "version": "3.11.0"
  },
  "vscode": {
   "interpreter": {
    "hash": "ef346b41c213b6d3daa27bfe64205bc3ad8d7c09cd78cad3c89653cc7286174b"
   }
  }
 },
 "nbformat": 4,
 "nbformat_minor": 5
}
